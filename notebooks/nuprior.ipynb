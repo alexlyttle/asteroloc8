{
 "cells": [
  {
   "cell_type": "code",
   "execution_count": 1,
   "metadata": {},
   "outputs": [],
   "source": [
    "import numpy as np\n",
    "\n",
    "from matplotlib import pyplot as plt\n",
    "from asteroloc8.prior import NuPrior"
   ]
  },
  {
   "cell_type": "code",
   "execution_count": 2,
   "metadata": {},
   "outputs": [],
   "source": [
    "tic261154649 = NuPrior(\n",
    "    teff_spec=4947., teff_spec_err=92.,\n",
    "    logg_spec=2.4565, logg_spec_err=0.05, \n",
    "    plx=1.44, plx_err=0.01, \n",
    "    jmag=8.293, jmag_err=0.03, \n",
    "    hmag=7.694, hmag_err=0.023, \n",
    "    kmag=7.559, kmag_err=0.027,\n",
    ")"
   ]
  },
  {
   "cell_type": "code",
   "execution_count": 3,
   "metadata": {
    "scrolled": true
   },
   "outputs": [
    {
     "name": "stdout",
     "output_type": "stream",
     "text": [
      "numax_50th =  30.28591078595059\n",
      "numax_std =  2.1089309617327188\n"
     ]
    }
   ],
   "source": [
    "a = tic261154649.gaiascalnmx(mass='giants', N_samples=10000)\n",
    "print('numax_50th = ', a[0][0])\n",
    "print('numax_std = ', a[0][1])"
   ]
  },
  {
   "cell_type": "code",
   "execution_count": 4,
   "metadata": {},
   "outputs": [
    {
     "data": {
      "image/png": "[encoded data removed]",
      "text/plain": [
       "<Figure size 432x288 with 1 Axes>"
      ]
     },
     "metadata": {
      "needs_background": "light"
     },
     "output_type": "display_data"
    }
   ],
   "source": [
    "plt.hist(a[1]);"
   ]
  },
  {
   "cell_type": "code",
   "execution_count": 5,
   "metadata": {
    "scrolled": true
   },
   "outputs": [
    {
     "name": "stdout",
     "output_type": "stream",
     "text": [
      "numax_50th =  34.50953960565552\n",
      "numax_std =  4.1676418452268145\n"
     ]
    }
   ],
   "source": [
    "b = tic261154649.specnmx()\n",
    "print('numax_50th = ', b[0][0])\n",
    "print('numax_std = ', b[0][1])"
   ]
  },
  {
   "cell_type": "code",
   "execution_count": 6,
   "metadata": {},
   "outputs": [
    {
     "data": {
      "image/png": "[encoded data removed]",
      "text/plain": [
       "<Figure size 432x288 with 1 Axes>"
      ]
     },
     "metadata": {
      "needs_background": "light"
     },
     "output_type": "display_data"
    }
   ],
   "source": [
    "plt.hist(b[1]);"
   ]
  },
  {
   "cell_type": "code",
   "execution_count": 7,
   "metadata": {},
   "outputs": [],
   "source": [
    "infile='DR16_APOTIC_NS_TMshort2.txt'"
   ]
  },
  {
   "cell_type": "code",
   "execution_count": 8,
   "metadata": {},
   "outputs": [],
   "source": [
    "outfile = infile.replace('.txt','_out.txt')"
   ]
  },
  {
   "cell_type": "code",
   "execution_count": 9,
   "metadata": {},
   "outputs": [],
   "source": [
    "stars=np.loadtxt(infile, usecols=(0,3,4,5,6,7,8,9,10,11,12,13,14), skiprows=1)"
   ]
  },
  {
   "cell_type": "code",
   "execution_count": 10,
   "metadata": {},
   "outputs": [],
   "source": [
    "ids,ateff,atefferr,alogg,aloggerr, gparallax, gparallaxerr, tj, tjerr,th, therr,tk, tkerr=zip(*stars) "
   ]
  },
  {
   "cell_type": "code",
   "execution_count": 11,
   "metadata": {},
   "outputs": [
    {
     "data": {
      "text/plain": [
       "59"
      ]
     },
     "execution_count": 11,
     "metadata": {},
     "output_type": "execute_result"
    }
   ],
   "source": [
    "open(outfile,'w').write('## TICID  specnumax  specnumaxerr gaianumax  gaianumaxerr \\n')"
   ]
  },
  {
   "cell_type": "code",
   "execution_count": null,
   "metadata": {},
   "outputs": [
    {
     "name": "stderr",
     "output_type": "stream",
     "text": [
      "/Users/ajl573/Repos/alexlyttle/asteroloc8/asteroloc8/prior.py:217: RuntimeWarning: invalid value encountered in log10\n",
      "  MK = Kmag-(5*np.log10(1000/parallax)-5)\n"
     ]
    }
   ],
   "source": [
    "for i in range(len(ids)):\n",
    "    star=NuPrior(teff_spec=ateff[i], teff_spec_err=atefferr[i], logg_spec=alogg[i], logg_spec_err=aloggerr[i], plx=gparallax[i], plx_err=gparallaxerr[i], \n",
    "        jmag=tj[i], jmag_err=tjerr[i], hmag=th[i], hmag_err=therr[i], kmag=tk[i], kmag_err=tkerr[i])\n",
    " \n",
    "    if gparallax[i] > 0:\n",
    "        gaiastar=star.gaiascalnmx(mass='giants')\n",
    "        gaianumaxstar=gaiastar[0][0]\n",
    "        gaianumaxrangestar=gaiastar[0][1]\n",
    "    else:\n",
    "        gaianumaxstar=-9999\n",
    "        gaianumaxrangestar=-9999\n",
    "\n",
    "    if (ateff[i] > 0 and alogg[i] > -10):\n",
    "        specstar=star.specnmx()\n",
    "        specnumaxstar=specstar[0][0]\n",
    "        specnumaxrangestar=specstar[0][1]\n",
    "    else:\n",
    "        specnumaxstar=-9999\n",
    "        specnumaxrangestar=-9999   \n",
    "        \n",
    "    lin='   %.0f'%ids[i]+'\\t'+'   %.6f'%specnumaxstar+'\\t'+'   %.6f'%specnumaxrangestar+'\\t'+'   %.6f'%gaianumaxstar+'\\t'+'   %.6f'%gaianumaxrangestar+'\\n'\n",
    "    open(outfile,'a').write(lin)     "
   ]
  },
  {
   "cell_type": "code",
   "execution_count": null,
   "metadata": {},
   "outputs": [],
   "source": []
  }
 ],
 "metadata": {
  "kernelspec": {
   "display_name": "Python 3 (Asteroloc8)",
   "language": "python",
   "name": "asteroloc8"
  },
  "language_info": {
   "codemirror_mode": {
    "name": "ipython",
    "version": 3
   },
   "file_extension": ".py",
   "mimetype": "text/x-python",
   "name": "python",
   "nbconvert_exporter": "python",
   "pygments_lexer": "ipython3",
   "version": "3.7.5"
  }
 },
 "nbformat": 4,
 "nbformat_minor": 2
}
