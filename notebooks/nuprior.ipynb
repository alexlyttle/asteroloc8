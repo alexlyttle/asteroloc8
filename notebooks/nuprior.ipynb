{
 "cells": [
  {
   "cell_type": "code",
   "execution_count": 1,
   "metadata": {},
   "outputs": [],
   "source": [
    "import numpy as np\n",
    "\n",
    "from asteroloc8.prior import NuPrior"
   ]
  },
  {
   "cell_type": "code",
   "execution_count": 2,
   "metadata": {},
   "outputs": [],
   "source": [
    "tic261154649 = NuPrior(\n",
    "    teff_spec=4947., teff_spec_err=92.,\n",
    "    logg_spec=2.4565, logg_spec_err=0.05, \n",
    "    plx=1.44, plx_err=0.01, \n",
    "    jmag=8.293, jmag_err=0.03, \n",
    "    hmag=7.694, hmag_err=0.023, \n",
    "    kmag=7.559, kmag_err=0.027,\n",
    ")"
   ]
  },
  {
   "cell_type": "code",
   "execution_count": 3,
   "metadata": {
    "scrolled": true
   },
   "outputs": [
    {
     "name": "stdout",
     "output_type": "stream",
     "text": [
      "numax_50th =  30.380043075300243\n",
      "numax_std =  2.148034158394226\n"
     ]
    }
   ],
   "source": [
    "a=tic261154649.gaiascalnmx(mass='giants')\n",
    "print('numax_50th = ', a[0][0])\n",
    "print('numax_std = ', a[0][1])"
   ]
  },
  {
   "cell_type": "code",
   "execution_count": 4,
   "metadata": {},
   "outputs": [
    {
     "data": {
      "text/plain": [
       "(array([  4.,  19.,  71., 162., 214., 240., 185.,  73.,  26.,   6.]),\n",
       " array([23.4107659 , 24.78007002, 26.14937415, 27.51867827, 28.8879824 ,\n",
       "        30.25728652, 31.62659065, 32.99589477, 34.3651989 , 35.73450302,\n",
       "        37.10380715]),\n",
       " <BarContainer object of 10 artists>)"
      ]
     },
     "execution_count": 4,
     "metadata": {},
     "output_type": "execute_result"
    },
    {
     "data": {
      "image/png": "[encoded data removed]",
      "text/plain": [
       "<Figure size 432x288 with 1 Axes>"
      ]
     },
     "metadata": {
      "needs_background": "light"
     },
     "output_type": "display_data"
    }
   ],
   "source": [
    "from matplotlib import pyplot as plt\n",
    "\n",
    "plt.hist(a[1])"
   ]
  },
  {
   "cell_type": "code",
   "execution_count": 5,
   "metadata": {
    "scrolled": true
   },
   "outputs": [
    {
     "name": "stdout",
     "output_type": "stream",
     "text": [
      "((34.71131291448406, 4.178559330045199), array([34.26264805, 34.04296372, 35.18725298, 40.94604453, 39.00919806,\n",
      "       34.50720624, 35.84935628, 33.05698562, 34.60548068, 36.87153365,\n",
      "       30.85061799, 31.18483137, 37.65647708, 36.65924181, 34.43181795,\n",
      "       36.95073134, 34.8269298 , 33.60923275, 31.11798847, 29.70590632,\n",
      "       35.994161  , 34.27382649, 28.36589258, 33.96861095, 38.85488254,\n",
      "       35.60776362, 31.65435482, 36.81793196, 42.20589788, 36.88280409,\n",
      "       35.90439907, 32.80710801, 34.43628972, 35.00210223, 30.99211146,\n",
      "       30.86506548, 33.28864793, 34.03341642, 32.13426889, 31.55863489,\n",
      "       33.06927023, 39.63900344, 29.71856391, 48.50702766, 35.84043895,\n",
      "       39.23702244, 33.92449792, 35.17852701, 35.6706563 , 34.38722289,\n",
      "       33.09764111, 32.26248722, 40.15630279, 36.73658758, 34.90976078,\n",
      "       29.67336496, 30.84913123, 36.54502822, 31.10068598, 31.17218128,\n",
      "       34.84148137, 42.49218328, 36.74648389, 32.52951824, 33.84966709,\n",
      "       29.77270013, 33.84519285, 33.92063842, 29.37623114, 40.79638503,\n",
      "       36.75587809, 34.01451841, 37.41694236, 35.96759343, 38.39205449,\n",
      "       32.41905564, 40.88566279, 33.69582789, 27.10038096, 34.99668422,\n",
      "       34.14531148, 36.98497832, 31.63352314, 32.90284849, 39.67896194,\n",
      "       27.30383749, 33.64456385, 39.42618097, 37.48275434, 35.10353103,\n",
      "       40.09769691, 40.07643405, 35.93822895, 37.89468783, 47.41579007,\n",
      "       37.87245911, 32.80510788, 39.05689825, 37.11440864, 34.7242734 ,\n",
      "       37.72026965, 26.31572135, 26.21191349, 35.58425235, 33.42335182,\n",
      "       32.02367015, 29.39429229, 41.31620855, 37.09453482, 33.34643655,\n",
      "       28.77194114, 46.97788654, 34.0841172 , 40.43613544, 34.58247448,\n",
      "       34.44052648, 32.54843954, 32.12545003, 34.71875867, 33.62744722,\n",
      "       32.5328837 , 32.48469459, 36.11155918, 31.8430682 , 36.83193601,\n",
      "       35.99160641, 51.00531631, 35.80046696, 38.10697578, 32.16112918,\n",
      "       33.54341815, 31.7773355 , 36.67830935, 27.05227606, 37.13547447,\n",
      "       24.90486129, 35.97935733, 34.00528227, 35.14419163, 40.26061341,\n",
      "       35.16567606, 29.04492961, 30.12637785, 31.72969482, 43.99902744,\n",
      "       29.52276699, 34.62256913, 40.34858958, 33.12781598, 30.30171379,\n",
      "       27.57688858, 32.3779067 , 35.57763278, 31.82888013, 34.68702802,\n",
      "       39.82550501, 42.70430834, 40.7752307 , 36.57019784, 33.2521492 ,\n",
      "       29.96512576, 40.19521374, 26.92451608, 33.885279  , 33.94325423,\n",
      "       45.32151298, 37.47990679, 33.38082626, 34.29551035, 30.19102349,\n",
      "       37.17167089, 35.02146947, 35.92205021, 31.0701077 , 37.55332266,\n",
      "       30.68425823, 46.11358406, 36.58824236, 44.68165952, 31.67568546,\n",
      "       30.94597191, 35.78752656, 27.13700481, 31.14025383, 26.90200378,\n",
      "       33.23904443, 43.35079543, 33.47054908, 37.06704967, 42.87129982,\n",
      "       29.94848138, 33.61555302, 37.20838191, 35.75774139, 32.65690798,\n",
      "       36.36449185, 32.14191712, 38.99256464, 33.3792405 , 29.09914276,\n",
      "       35.66354672, 39.22597099, 30.65200248, 36.65628286, 41.13363805,\n",
      "       28.81463884, 28.2921195 , 35.90586299, 32.72429897, 40.04905579,\n",
      "       32.9041566 , 33.20047981, 35.66818652, 34.41629766, 39.10084454,\n",
      "       41.77537827, 32.25993834, 30.77683874, 34.55294689, 33.26654538,\n",
      "       34.79177768, 37.7746738 , 38.60812312, 32.28755292, 30.27291891,\n",
      "       34.78685344, 33.43907968, 35.13410149, 33.2970235 , 38.08204036,\n",
      "       39.44422873, 35.98570115, 46.01211607, 39.87846969, 26.63407884,\n",
      "       30.04200155, 30.76700964, 34.44457696, 34.46157999, 34.75230646,\n",
      "       35.01906368, 35.95759259, 32.66690165, 37.64604795, 39.28102698,\n",
      "       37.89401379, 36.03953655, 36.87763013, 38.80547231, 34.99080244,\n",
      "       34.90555475, 40.63984725, 22.51473851, 33.08899065, 38.41752774,\n",
      "       37.53616099, 37.60459828, 39.04514124, 32.73093905, 35.26056034,\n",
      "       34.75564169, 36.231496  , 33.70573764, 30.34855407, 29.54958798,\n",
      "       28.93927726, 32.13249146, 30.99383036, 35.48453282, 28.71550912,\n",
      "       34.53288796, 35.31326373, 40.6951858 , 32.65139054, 33.5139778 ,\n",
      "       38.95072934, 28.74637591, 40.89556845, 45.29049061, 35.3320129 ,\n",
      "       30.39398673, 33.50928223, 34.18616562, 32.27349844, 31.37788406,\n",
      "       35.52585628, 35.38278256, 43.78590262, 31.04294641, 34.29918993,\n",
      "       31.20525268, 35.86919473, 33.55435623, 36.53320407, 36.01288649,\n",
      "       34.31210118, 35.05453769, 40.51780933, 37.27263378, 36.8704685 ,\n",
      "       34.42638586, 37.87860913, 40.62001194, 32.6801137 , 39.52019819,\n",
      "       32.50678195, 37.218684  , 36.33099731, 33.77479316, 33.29107666,\n",
      "       37.54937108, 31.06243702, 29.98960075, 31.11201212, 41.3609873 ,\n",
      "       33.98435221, 40.46807532, 33.31211307, 29.49311632, 38.93424838,\n",
      "       33.34456127, 31.06921304, 40.72813643, 31.88607883, 33.85619054,\n",
      "       40.65856211, 36.0546568 , 34.58070311, 36.24983608, 33.170073  ,\n",
      "       29.46507304, 30.09712532, 36.34032394, 39.15883642, 36.69337296,\n",
      "       32.33882643, 34.18809083, 30.79353223, 32.5610754 , 31.58758465,\n",
      "       31.05950952, 36.26557463, 33.55796781, 35.89212048, 37.22611069,\n",
      "       31.97864205, 38.1742644 , 44.64510456, 34.23814618, 35.63440039,\n",
      "       33.23447866, 33.86229727, 31.34511801, 31.72631064, 34.71465039,\n",
      "       27.58247372, 37.26762641, 33.25726103, 39.61249822, 30.60503185,\n",
      "       36.78734733, 39.05042131, 36.8661828 , 37.91528869, 40.34931047,\n",
      "       34.33341509, 37.05531677, 36.83542559, 32.72582733, 38.13879228,\n",
      "       29.19522182, 39.66914749, 34.08725156, 33.08754162, 35.72746015,\n",
      "       34.48822436, 30.33615595, 26.21544981, 32.57133651, 33.93944696,\n",
      "       29.2548568 , 34.81762163, 37.7977066 , 31.09813578, 26.71900646,\n",
      "       32.43823713, 35.96630229, 27.40213634, 32.22952585, 37.40342904,\n",
      "       36.06637402, 48.78331944, 28.21305511, 33.5911202 , 30.91159424,\n",
      "       33.2982839 , 34.11123036, 33.57695076, 33.92107899, 35.04158871,\n",
      "       30.74527484, 35.20462261, 37.41469295, 36.43366994, 35.34214457,\n",
      "       38.50017971, 39.69796349, 34.98775085, 39.72556195, 33.01958275,\n",
      "       34.46595209, 36.33776422, 27.02833007, 31.43779061, 32.36976197,\n",
      "       31.02013069, 32.93723341, 32.86001664, 36.83202934, 34.09380141,\n",
      "       38.81241844, 38.92446907, 31.74258038, 33.30836358, 27.1767246 ,\n",
      "       43.5133816 , 36.35301073, 37.17559284, 35.82735078, 31.12998969,\n",
      "       32.07387511, 33.70246786, 38.15111381, 30.43682778, 37.54148527,\n",
      "       34.2476655 , 38.69461251, 39.62479385, 31.61563135, 33.72790563,\n",
      "       32.13285926, 32.35539296, 38.1614033 , 34.56703776, 36.93424651,\n",
      "       36.52104784, 37.15104939, 42.33683075, 31.97802933, 32.24770506,\n",
      "       34.22115279, 31.61779428, 46.61501733, 30.19221107, 26.56199433,\n",
      "       36.13064193, 34.77796415, 27.5314343 , 36.86067877, 39.92133371,\n",
      "       33.48967241, 36.57357694, 34.81810688, 34.60136927, 40.98841522,\n",
      "       34.72357291, 30.11548438, 38.70961463, 44.19897629, 34.36747099,\n",
      "       35.03726092, 37.3946131 , 26.76326874, 34.11069178, 32.46403128,\n",
      "       39.69190529, 35.73209221, 31.38140922, 35.02305737, 33.6449184 ,\n",
      "       34.60631053, 41.52949343, 32.64734676, 37.08379937, 35.58878398,\n",
      "       38.51899548, 34.32809568, 35.02308031, 40.26684226, 34.53274648,\n",
      "       37.47854309, 39.76500744, 34.11086705, 33.13649252, 35.79398187,\n",
      "       50.77015996, 27.85421233, 33.60187458, 35.55391893, 32.78971358,\n",
      "       32.69745908, 29.77061478, 38.56862188, 40.66614785, 35.35101557,\n",
      "       32.11843372, 39.83935928, 36.00105089, 27.32364456, 29.88806604,\n",
      "       31.10336106, 41.35096008, 36.32207756, 28.42790206, 38.38063363,\n",
      "       42.57569306, 30.91568634, 39.35983111, 30.91090805, 40.41306241,\n",
      "       31.67919914, 38.84075649, 37.03544137, 32.97903337, 39.32023658,\n",
      "       26.94031816, 38.71354284, 36.62049751, 33.42457125, 42.41172693,\n",
      "       33.08306216, 34.33527057, 37.30802795, 37.00483863, 35.72738084,\n",
      "       30.92607722, 33.17866706, 40.01505617, 37.03944303, 32.93611961,\n",
      "       28.05930077, 31.48680549, 40.67649919, 31.30546814, 41.56912196,\n",
      "       30.47500954, 37.97257543, 31.65457466, 31.3360332 , 34.05686545,\n",
      "       33.13728558, 38.08151195, 34.48956067, 27.56959545, 39.24286775,\n",
      "       38.89503899, 50.75279677, 35.83006654, 34.40968773, 36.23408321,\n",
      "       34.57518248, 34.13195019, 34.82725098, 33.21263238, 27.06702149,\n",
      "       30.17050327, 33.56208203, 30.64802188, 39.18194406, 31.77638109,\n",
      "       30.57833847, 31.96183953, 35.61086438, 37.93813145, 35.0038046 ,\n",
      "       39.27886752, 32.56393991, 34.05896852, 37.99803709, 34.78185355,\n",
      "       33.832637  , 28.29248559, 30.51753287, 35.56483024, 39.15284892,\n",
      "       29.23832685, 34.53662066, 35.85581116, 38.30104106, 41.56316846,\n",
      "       34.52316551, 31.36730273, 33.15376362, 32.0550311 , 34.69344185,\n",
      "       33.22402243, 35.07279278, 38.9059079 , 34.99274956, 37.55687193,\n",
      "       32.06458221, 38.36619347, 42.62307435, 32.73101427, 33.84726498,\n",
      "       31.22648608, 28.24653479, 36.27512486, 24.1214013 , 38.95621351,\n",
      "       29.41018647, 33.32279854, 32.08156297, 33.68144139, 36.26575958,\n",
      "       35.38178742, 35.60115856, 40.63349581, 43.30846987, 38.35227584,\n",
      "       38.25358718, 33.05895068, 35.5825412 , 29.71034693, 32.96174521,\n",
      "       30.5208351 , 35.15053586, 31.83949685, 36.24901229, 27.21534215,\n",
      "       27.23397683, 33.95286596, 36.05553337, 35.07609213, 26.46006485,\n",
      "       29.27714199, 37.04936839, 31.94062239, 40.88148155, 28.63321057,\n",
      "       37.39538533, 28.96353417, 43.32592608, 29.85628597, 40.41072239,\n",
      "       34.18818954, 32.7226489 , 40.82252948, 31.76591999, 32.58740813,\n",
      "       34.78022861, 35.89115824, 37.67581046, 32.54753358, 36.31179595,\n",
      "       34.36311227, 44.61707265, 34.56666414, 40.28910223, 33.74131851,\n",
      "       37.95487261, 35.00486113, 40.17745824, 31.0940528 , 35.2034315 ,\n",
      "       36.96037628, 25.44975474, 32.98516703, 36.80935236, 33.17967594,\n",
      "       32.5197127 , 35.3615082 , 29.72800428, 42.90373819, 40.94316638,\n",
      "       34.8539499 , 45.58815209, 32.56698839, 30.06843672, 38.99989319,\n",
      "       35.0793252 , 31.5635242 , 34.55681753, 33.52496649, 32.38641748,\n",
      "       35.6893368 , 33.09137778, 34.48879179, 34.21512377, 38.79443231,\n",
      "       32.8471002 , 33.41110138, 43.48793176, 32.5703988 , 27.11295949,\n",
      "       39.89959714, 26.66610561, 35.21678411, 27.10343496, 34.25322362,\n",
      "       26.54568354, 33.00040771, 37.28163856, 37.37767969, 30.17992416,\n",
      "       39.95525783, 41.67957223, 39.11444477, 38.84576712, 35.8650116 ,\n",
      "       24.64820547, 37.49909036, 36.11710477, 36.38975644, 34.26390041,\n",
      "       39.30735093, 27.47551866, 28.5766319 , 31.25555212, 43.22346912,\n",
      "       38.9804623 , 33.05276793, 34.18832913, 34.6514455 , 39.20847042,\n",
      "       27.95738073, 36.45091231, 42.43263198, 41.2544809 , 29.17264295,\n",
      "       30.25241221, 36.71553922, 34.38785776, 36.64719523, 35.26734796,\n",
      "       33.52645297, 26.55715441, 39.0931759 , 33.26947801, 43.36701625,\n",
      "       48.02431984, 36.78110566, 39.91291459, 37.12608148, 31.32617974,\n",
      "       46.60907145, 34.24934089, 27.72103294, 39.11437713, 32.53646404,\n",
      "       34.32956804, 30.84758802, 34.70797544, 34.13862906, 42.22575564,\n",
      "       29.73299929, 46.73998277, 31.90019871, 30.34313637, 35.52933517,\n",
      "       42.64376927, 31.95645268, 35.42316714, 36.58356901, 35.11527753,\n",
      "       37.37848719, 34.93235447, 34.82873781, 31.15907017, 31.66881387,\n",
      "       34.5557775 , 33.35238256, 29.39109609, 35.08567465, 43.37692486,\n",
      "       32.88756547, 36.72263556, 43.49295871, 35.61731187, 40.59591282,\n",
      "       42.30926338, 37.2591478 , 37.83991421, 29.40510162, 39.73325566,\n",
      "       37.94672553, 35.589433  , 28.35742292, 36.946175  , 39.92074788,\n",
      "       31.09302454, 32.94987628, 31.24202679, 33.25498752, 37.00116045,\n",
      "       43.54445688, 31.34658002, 34.66658732, 43.15843933, 35.7838632 ,\n",
      "       34.1267762 , 31.12317218, 36.86484321, 36.18137105, 35.77957227,\n",
      "       30.61130579, 37.32654171, 34.41364436, 35.15342744, 34.3269119 ,\n",
      "       41.08584563, 34.47611776, 36.92687213, 36.45472181, 36.38579473,\n",
      "       43.94767379, 38.62957731, 34.87319045, 38.57418381, 38.84917025,\n",
      "       30.58673078, 41.77011914, 34.52592119, 34.06924294, 35.84399529,\n",
      "       38.74990767, 33.36265018, 39.96953537, 34.36287616, 29.98041355,\n",
      "       31.20012163, 30.03162968, 28.42242629, 34.05233126, 41.88186897,\n",
      "       39.53638857, 35.02839822, 32.11881795, 36.56642737, 33.51165528,\n",
      "       37.26056822, 28.65664257, 35.74983303, 33.70824187, 35.9099922 ,\n",
      "       34.01675794, 35.26350135, 30.1587385 , 35.48843404, 37.40757436,\n",
      "       35.28541933, 36.10099311, 30.6323143 , 29.31572005, 37.58281898,\n",
      "       42.46324251, 37.28100458, 35.39948147, 31.8405724 , 33.41977258,\n",
      "       35.30958887, 36.55892401, 29.7538996 , 41.26833459, 39.9167519 ,\n",
      "       31.92558374, 27.03618624, 33.44388628, 38.86853281, 38.00762834,\n",
      "       33.50418009, 36.05342907, 33.11553596, 30.17377559, 30.5780495 ,\n",
      "       28.52867362, 40.35342388, 37.03102535, 37.8250282 , 41.86390831,\n",
      "       31.61364269, 32.48858705, 35.97472638, 35.81906301, 45.79006927,\n",
      "       33.95093615, 39.78773536, 30.79514806, 28.67816122, 31.91480817,\n",
      "       35.79870084, 37.54562302, 33.33782836, 34.55475947, 43.11389619,\n",
      "       33.93126131, 39.89219453, 30.23963121, 31.15753786, 30.29481189,\n",
      "       33.49868108, 32.47084784, 44.55364032, 33.73627303, 35.89848469,\n",
      "       36.59355742, 33.11639998, 29.91478894, 34.94258716, 38.02313636,\n",
      "       31.13842788, 28.36314625, 35.03909571, 38.88532183, 42.5147505 ,\n",
      "       36.93254888, 33.30897927, 38.79168598, 34.61145597, 30.59772584,\n",
      "       34.80927427, 35.15823684, 27.20077031, 32.05024934, 32.72775809,\n",
      "       35.52175741, 40.80281791, 34.61541956, 34.66284855, 41.6432105 ,\n",
      "       36.02057525, 40.71232872, 32.66767238, 32.89639538, 40.73301764,\n",
      "       38.8007277 , 33.17977174, 36.20434845, 37.11210784, 30.83992628,\n",
      "       36.89011681, 31.90869075, 34.23295889, 30.59544461, 37.62482804,\n",
      "       35.40634681, 31.01119279, 37.70885935, 33.69102238, 35.67094666,\n",
      "       41.03570838, 33.19311287, 36.96050602, 34.68137995, 33.03439575,\n",
      "       38.14147669, 38.21944415, 32.94951089, 28.29906161, 34.67044811,\n",
      "       33.35640293, 37.6172522 , 42.77209122, 34.7198588 , 36.4936005 ,\n",
      "       38.14298258, 31.679911  , 36.37668768, 37.01655425, 30.44901165,\n",
      "       41.31381723, 37.62178776, 36.29184186, 39.14856528, 44.13658805,\n",
      "       30.43033897, 38.82719436, 34.61533243, 39.82764728, 27.07158152,\n",
      "       34.22328697, 29.46797764, 32.36006833, 33.35441211, 31.59969525,\n",
      "       32.50244553, 31.64757799, 36.35385799, 35.08174052, 35.79369485,\n",
      "       36.42175958, 41.86763595, 37.20932884, 39.47330169, 39.08140539,\n",
      "       49.41841401, 34.10804058, 29.89912172, 34.34310755, 34.1790016 ]))\n"
     ]
    }
   ],
   "source": [
    "print(tic261154649.specnmx())"
   ]
  },
  {
   "cell_type": "code",
   "execution_count": 6,
   "metadata": {},
   "outputs": [],
   "source": [
    "infile='DR16_APOTIC_NS_TMshort2.txt'"
   ]
  },
  {
   "cell_type": "code",
   "execution_count": 7,
   "metadata": {},
   "outputs": [],
   "source": [
    "outfile = infile.replace('.txt','_out.txt')"
   ]
  },
  {
   "cell_type": "code",
   "execution_count": 8,
   "metadata": {},
   "outputs": [],
   "source": [
    "stars=np.loadtxt(infile, usecols=(0,3,4,5,6,7,8,9,10,11,12,13,14), skiprows=1)"
   ]
  },
  {
   "cell_type": "code",
   "execution_count": 9,
   "metadata": {},
   "outputs": [],
   "source": [
    "ids,ateff,atefferr,alogg,aloggerr, gparallax, gparallaxerr, tj, tjerr,th, therr,tk, tkerr=zip(*stars) "
   ]
  },
  {
   "cell_type": "code",
   "execution_count": 10,
   "metadata": {},
   "outputs": [
    {
     "data": {
      "text/plain": [
       "59"
      ]
     },
     "execution_count": 10,
     "metadata": {},
     "output_type": "execute_result"
    }
   ],
   "source": [
    "open(outfile,'w').write('## TICID  specnumax  specnumaxerr gaianumax  gaianumaxerr \\n')"
   ]
  },
  {
   "cell_type": "code",
   "execution_count": null,
   "metadata": {},
   "outputs": [
    {
     "name": "stderr",
     "output_type": "stream",
     "text": [
      "/Users/ajl573/Repos/alexlyttle/asteroloc8/asteroloc8/prior.py:170: RuntimeWarning: invalid value encountered in log10\n",
      "  MK = Kmag-(5*np.log10(1000/parallax)-5)\n"
     ]
    }
   ],
   "source": [
    "for i in range(len(ids)):\n",
    "    star=NuPrior(teff_spec=ateff[i], teff_spec_err=atefferr[i], logg_spec=alogg[i], logg_spec_err=aloggerr[i], plx=gparallax[i], plx_err=gparallaxerr[i], \n",
    "        jmag=tj[i], jmag_err=tjerr[i], hmag=th[i], hmag_err=therr[i], kmag=tk[i], kmag_err=tkerr[i])\n",
    " \n",
    "    if gparallax[i] > 0:\n",
    "        gaiastar=star.gaiascalnmx(mass='giants')\n",
    "        gaianumaxstar=gaiastar[0][0]\n",
    "        gaianumaxrangestar=gaiastar[0][1]\n",
    "    else:\n",
    "        gaianumaxstar=-9999\n",
    "        gaianumaxrangestar=-9999\n",
    "\n",
    "    if (ateff[i] > 0 and alogg[i] > -10):\n",
    "        specstar=star.specnmx()\n",
    "        specnumaxstar=specstar[0][0]\n",
    "        specnumaxrangestar=specstar[0][1]\n",
    "    else:\n",
    "        specnumaxstar=-9999\n",
    "        specnumaxrangestar=-9999   \n",
    "        \n",
    "    lin='   %.0f'%ids[i]+'\\t'+'   %.6f'%specnumaxstar+'\\t'+'   %.6f'%specnumaxrangestar+'\\t'+'   %.6f'%gaianumaxstar+'\\t'+'   %.6f'%gaianumaxrangestar+'\\n'\n",
    "    open(outfile,'a').write(lin)     "
   ]
  },
  {
   "cell_type": "code",
   "execution_count": null,
   "metadata": {},
   "outputs": [],
   "source": []
  }
 ],
 "metadata": {
  "kernelspec": {
   "display_name": "Python 3 (Asteroloc8)",
   "language": "python",
   "name": "asteroloc8"
  },
  "language_info": {
   "codemirror_mode": {
    "name": "ipython",
    "version": 3
   },
   "file_extension": ".py",
   "mimetype": "text/x-python",
   "name": "python",
   "nbconvert_exporter": "python",
   "pygments_lexer": "ipython3",
   "version": "3.7.5"
  }
 },
 "nbformat": 4,
 "nbformat_minor": 2
}
